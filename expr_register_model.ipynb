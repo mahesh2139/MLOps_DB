{
 "cells": [
  {
   "cell_type": "code",
   "execution_count": 0,
   "metadata": {
    "application/vnd.databricks.v1+cell": {
     "cellMetadata": {
      "byteLimit": 2048000,
      "rowLimit": 10000
     },
     "inputWidgets": {},
     "nuid": "d0ee423a-738f-4214-8467-dc8efe0e9883",
     "showTitle": false,
     "tableResultSettingsMap": {},
     "title": ""
    }
   },
   "outputs": [],
   "source": [
    "# Importing libraries\n",
    "import os\n",
    "import sys\n",
    "import mlflow\n",
    "import mlflow.sklearn\n",
    "import joblib\n",
    "import json\n",
    "import pandas as pd\n",
    "import numpy as np\n",
    "from sklearn.metrics import mean_absolute_error, mean_squared_error, r2_score\n",
    "from mlflow.models.signature import infer_signature\n",
    "\n",
    "def predict(model, X_test):\n",
    "    y_test_pred = model.predict(X_test)\n",
    "    return y_test_pred\n",
    "\n",
    "def evaluate(y_test, y_test_pred):\n",
    "    mae = mean_absolute_error(y_test, y_test_pred)\n",
    "    mse = mean_squared_error(y_test, y_test_pred)\n",
    "    rmse = np.sqrt(mse)\n",
    "    r2 = r2_score(y_test, y_test_pred)\n",
    "    return mae, mse, rmse, r2\n",
    "\n",
    "def log_model(mae, mse, rmse, r2):\n",
    "    mlflow.log_metric(\"MAE\", mae)\n",
    "    mlflow.log_metric(\"MSE\", mse)\n",
    "    mlflow.log_metric(\"RMSE\", rmse)\n",
    "    mlflow.log_metric(\"R2\", r2)\n",
    "\n",
    "    # Register the model in MLflow \n",
    "def register_model(model, X_test):\n",
    "    # Log the model with signature\n",
    "    signature = infer_signature(X_test, model.predict(X_test))\n",
    "    mlflow.sklearn.log_model(\n",
    "        registered_model_name=\"mlops.public.Ice_Creame_Model\",\n",
    "        sk_model=model,\n",
    "        signature=signature,\n",
    "        artifact_path=\"model\"\n",
    "        )\n",
    "    \n",
    "if __name__ == \"__main__\":\n",
    "    \n",
    " # Load model and test data\n",
    " model_path = \"/Workspace/Users/mahesh2139@gmail.com/Model/model.pkl\"\n",
    " test_data_path = \"/Workspace/Users/mahesh2139@gmail.com/Model/test_data.pkl\"\n",
    " model = joblib.load(model_path)\n",
    " X_test, y_test = joblib.load(test_data_path)\n",
    "\n",
    " mlflow.set_tracking_uri(\"databricks\")\n",
    " # Set the registry URI to Unity Catalog\n",
    " mlflow.set_registry_uri(\"databricks-uc\")\n",
    " mlflow.set_experiment(\"/Users/mahesh2139@gmail.com/Ice_Creame_Model\")\n",
    " \n",
    " # Create input example for logging\n",
    " input_example = X_test[:5]  # first 5 rows of input features\n",
    " \n",
    " with mlflow.start_run(run_name=\"ice_cream_regression_model\"):\n",
    "    y_test_pred = predict(model, X_test)\n",
    "    mae, mse, rmse, r2 = evaluate(y_test, y_test_pred)\n",
    "    print(f\"mae: {mae}, mse: {mse}, rmse : {rmse}, r2: {r2}\")\n",
    "    log_model(mae, mse, rmse, r2)\n",
    "    register_model(model, X_test)\n",
    "    print(\"Run logged and model registered successfully\")\n",
    "    print(\"Artifact location:\",mlflow.get_artifact_uri())\n"
   ]
  },
  {
   "cell_type": "code",
   "execution_count": 0,
   "metadata": {
    "application/vnd.databricks.v1+cell": {
     "cellMetadata": {},
     "inputWidgets": {},
     "nuid": "6295f3ef-f6bc-4cf2-b079-8e9d8430ac6a",
     "showTitle": false,
     "tableResultSettingsMap": {},
     "title": ""
    }
   },
   "outputs": [],
   "source": []
  }
 ],
 "metadata": {
  "application/vnd.databricks.v1+notebook": {
   "computePreferences": null,
   "dashboards": [],
   "environmentMetadata": {
    "base_environment": "",
    "environment_version": "3"
   },
   "inputWidgetPreferences": null,
   "language": "python",
   "notebookMetadata": {
    "pythonIndentUnit": 4
   },
   "notebookName": "expr_register_model",
   "widgets": {}
  },
  "language_info": {
   "name": "python"
  }
 },
 "nbformat": 4,
 "nbformat_minor": 0
}
