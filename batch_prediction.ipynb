{
 "cells": [
  {
   "cell_type": "code",
   "execution_count": 0,
   "metadata": {
    "application/vnd.databricks.v1+cell": {
     "cellMetadata": {
      "byteLimit": 2048000,
      "rowLimit": 10000
     },
     "inputWidgets": {},
     "nuid": "5ad2ba1d-369e-4934-99fc-eaeca308d3b7",
     "showTitle": false,
     "tableResultSettingsMap": {},
     "title": ""
    }
   },
   "outputs": [],
   "source": [
    "\n",
    "# batch_inference\n",
    "import pandas as pd\n",
    "import joblib\n",
    "import os\n",
    "\n",
    "# Step 1: Define paths\n",
    "model_path = \"/Workspace/Users/mahesh2139@gmail.com/Model/model.pkl\"\n",
    "input_csv_path = \"/Workspace/Users/mahesh2139@gmail.com/Input/icecream_input.csv\"  # Ensure this path exists or create the file before running the script.\n",
    "output_csv_path = \"/Workspace/Users/mahesh2139@gmail.com/Output/icecream_prediction.csv\"\n",
    "     \n",
    "# Step 2: Load the trained model\n",
    "model = joblib.load(model_path)\n",
    "\n",
    "# Step 3: Read input data\n",
    "input_df = pd.read_csv(input_csv_path)\n",
    "\n",
    "# Ensure TEMP column exists\n",
    "if \"TEMP\" not in input_df.columns:\n",
    "    raise ValueError(\"Input CSV must contain a 'TEMP' column\")\n",
    "\n",
    "# Step 4: Make predictions\n",
    "input_df[\"PRICE\"] = model.predict(input_df[[\"TEMP\"]])  \n",
    "\n",
    "# Step 5: Save predictions to a new CSV\n",
    "input_df.to_csv(output_csv_path, index=False)\n",
    "print(f\"Predictions saved to: {output_csv_path}\")\n",
    "\n",
    "# Step 6: Convert pandas to Spark DataFrame for serving in a table\n",
    "spark_df = spark.createDataFrame(input_df)\n",
    "\n",
    "# Step 7: Save as table (will overwrite if exists)\n",
    "table_name = \"icecream_predictions\"\n",
    "spark_df.write.mode(\"overwrite\").saveAsTable(table_name)\n",
    "\n",
    "# Step 8: Display table in notebook\n",
    "display(spark.sql(f\"SELECT * FROM {table_name}\"))\n",
    "\n",
    "     \n",
    "\n",
    "\n",
    "     "
   ]
  }
 ],
 "metadata": {
  "application/vnd.databricks.v1+notebook": {
   "computePreferences": null,
   "dashboards": [],
   "environmentMetadata": {
    "base_environment": "",
    "environment_version": "3"
   },
   "inputWidgetPreferences": null,
   "language": "python",
   "notebookMetadata": {
    "pythonIndentUnit": 4
   },
   "notebookName": "batch_prediction",
   "widgets": {}
  },
  "language_info": {
   "name": "python"
  }
 },
 "nbformat": 4,
 "nbformat_minor": 0
}
