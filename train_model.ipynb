{
 "cells": [
  {
   "cell_type": "code",
   "execution_count": 0,
   "metadata": {
    "application/vnd.databricks.v1+cell": {
     "cellMetadata": {
      "byteLimit": 2048000,
      "rowLimit": 10000
     },
     "inputWidgets": {},
     "nuid": "3acb6bb2-0b81-430c-8c91-6d4bcf188b3a",
     "showTitle": false,
     "tableResultSettingsMap": {},
     "title": ""
    }
   },
   "outputs": [],
   "source": [
    "# Installing snowflake connector\n",
    "!pip install snowflake"
   ]
  },
  {
   "cell_type": "code",
   "execution_count": 0,
   "metadata": {
    "application/vnd.databricks.v1+cell": {
     "cellMetadata": {
      "byteLimit": 2048000,
      "rowLimit": 10000
     },
     "inputWidgets": {},
     "nuid": "790c2f98-2b63-4d96-aafe-044143dc365a",
     "showTitle": false,
     "tableResultSettingsMap": {},
     "title": ""
    }
   },
   "outputs": [],
   "source": [
    "%restart_python"
   ]
  },
  {
   "cell_type": "code",
   "execution_count": 0,
   "metadata": {
    "application/vnd.databricks.v1+cell": {
     "cellMetadata": {
      "byteLimit": 2048000,
      "rowLimit": 10000
     },
     "inputWidgets": {},
     "nuid": "93b20ba9-c6cb-4196-9a9a-fa4fe41c579f",
     "showTitle": false,
     "tableResultSettingsMap": {},
     "title": ""
    }
   },
   "outputs": [],
   "source": [
    "# Importing libraries\n",
    "import os\n",
    "import sys\n",
    "import pandas as pd\n",
    "import numpy as np\n",
    "from sklearn.model_selection import train_test_split\n",
    "from sklearn.linear_model import LinearRegression\n",
    "from sklearn.metrics import mean_absolute_error, mean_squared_error, r2_score\n",
    "import joblib\n",
    "import snowflake.connector\n",
    "import mlflow\n",
    "import mlflow.sklearn\n",
    "from mlflow.models.signature import infer_signature\n",
    "import json"
   ]
  },
  {
   "cell_type": "code",
   "execution_count": 0,
   "metadata": {
    "application/vnd.databricks.v1+cell": {
     "cellMetadata": {
      "byteLimit": 2048000,
      "rowLimit": 10000
     },
     "inputWidgets": {},
     "nuid": "9f84f1fd-bf42-444b-83c2-9c7d5dfe9a8e",
     "showTitle": false,
     "tableResultSettingsMap": {},
     "title": ""
    }
   },
   "outputs": [],
   "source": [
    "# Snowflake credentials (replace these with environment variables or secrets in production)\n",
    "username = dbutils.secrets.get(scope=\"sf_connection\", key=\"sf_username\")\n",
    "password = dbutils.secrets.get(scope=\"sf_connection\", key=\"sf_password\")\n",
    "account = dbutils.secrets.get(scope=\"sf_connection\", key=\"sf_account\")\n",
    "warehouse = dbutils.secrets.get(scope=\"sf_connection\", key=\"sf_warehouse\")\n",
    "database = dbutils.secrets.get(scope=\"sf_connection\", key=\"sf_database\")\n",
    "\n",
    "# Optional: set them as environment variables if you need\n",
    "os.environ[\"sf_username\"] = username\n",
    "os.environ[\"sf_password\"] = password\n",
    "os.environ[\"sf_account\"] = account\n",
    "os.environ[\"sf_warehouse\"] = warehouse\n",
    "os.environ[\"sf_database\"] = database"
   ]
  },
  {
   "cell_type": "code",
   "execution_count": 0,
   "metadata": {
    "application/vnd.databricks.v1+cell": {
     "cellMetadata": {
      "byteLimit": 2048000,
      "rowLimit": 10000
     },
     "inputWidgets": {},
     "nuid": "665f8e92-cf62-42f1-8b88-ee47f21cbe71",
     "showTitle": false,
     "tableResultSettingsMap": {},
     "title": ""
    }
   },
   "outputs": [],
   "source": [
    "\n",
    "# Set Snowflake connection options\n",
    "sfOptions = {\n",
    "  \"sfURL\": account,\n",
    "  \"sfUser\": username,\n",
    "  \"sfPassword\": password,\n",
    "  \"sfDatabase\": \"mlops\",\n",
    "  \"sfSchema\": \"public\",\n",
    "  \"sfWarehouse\": \"COMPUTE_WH\"\n",
    "}\n",
    "\n",
    "# Read data from a Snowflake table\n",
    "df = spark.read.format(\"snowflake\").options(**sfOptions).option(\"dbtable\", \"ice_cream\").load()\n",
    "# Show the data\n",
    "# Convert Spark DataFrame to Pandas DataFrame\n",
    "pdf = df.toPandas()\n",
    "display(pdf)\n",
    "\n",
    "def load_data():\n",
    "    X = pdf[['TEMP']]\n",
    "    y = pdf['PRICE']\n",
    "    return X, y\n",
    "\n",
    "def split_data(X, y):   \n",
    "    X_train, X_test, y_train, y_test = train_test_split(X, y, test_size=0.5, random_state=6)\n",
    "    return X_train, X_test, y_train, y_test\n",
    "\n",
    "def model_train(X_train, y_train):\n",
    "    model = LinearRegression()\n",
    "    model.fit(X_train, y_train)\n",
    "    return model\n",
    "\n",
    "   \n",
    "if __name__ == \"__main__\":\n",
    "    X, y = load_data()\n",
    "    X_train, X_test, y_train, y_test = split_data(X, y)\n",
    "    model = model_train(X_train, y_train)\n",
    "    # Define output directory in DBFS\n",
    "    output_dir = \"/Workspace/Users/mahesh2139@gmail.com/Model\"\n",
    "    os.makedirs(output_dir, exist_ok=True)\n",
    "\n",
    "    # Save files to DBFS\n",
    "    joblib.dump(model, f\"{output_dir}/model.pkl\")\n",
    " \n",
    "    print(\"Model and test data saved to DBFS at /dbfs/tmp/model_output/\")"
   ]
  }
 ],
 "metadata": {
  "application/vnd.databricks.v1+notebook": {
   "computePreferences": {
    "hardware": {
     "accelerator": null,
     "gpuPoolId": null,
     "memory": null
    }
   },
   "dashboards": [],
   "environmentMetadata": {
    "base_environment": "",
    "environment_version": "2"
   },
   "inputWidgetPreferences": null,
   "language": "python",
   "notebookMetadata": {
    "pythonIndentUnit": 4
   },
   "notebookName": "train_model",
   "widgets": {}
  },
  "language_info": {
   "name": "python"
  }
 },
 "nbformat": 4,
 "nbformat_minor": 0
}
